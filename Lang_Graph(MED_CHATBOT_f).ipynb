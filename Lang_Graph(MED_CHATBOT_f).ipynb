{
  "nbformat": 4,
  "nbformat_minor": 0,
  "metadata": {
    "colab": {
      "provenance": []
    },
    "kernelspec": {
      "name": "python3",
      "display_name": "Python 3"
    },
    "language_info": {
      "name": "python"
    }
  },
  "cells": [
    {
      "cell_type": "code",
      "source": [
        "!pip install langchain"
      ],
      "metadata": {
        "colab": {
          "base_uri": "https://localhost:8080/"
        },
        "id": "Szm5G5gdEq98",
        "outputId": "fad68d42-c5de-42c3-a0ad-4713eccea38e"
      },
      "execution_count": 28,
      "outputs": [
        {
          "output_type": "stream",
          "name": "stdout",
          "text": [
            "Requirement already satisfied: langchain in /usr/local/lib/python3.11/dist-packages (0.3.24)\n",
            "Requirement already satisfied: langchain-core<1.0.0,>=0.3.55 in /usr/local/lib/python3.11/dist-packages (from langchain) (0.3.55)\n",
            "Requirement already satisfied: langchain-text-splitters<1.0.0,>=0.3.8 in /usr/local/lib/python3.11/dist-packages (from langchain) (0.3.8)\n",
            "Requirement already satisfied: langsmith<0.4,>=0.1.17 in /usr/local/lib/python3.11/dist-packages (from langchain) (0.3.33)\n",
            "Requirement already satisfied: pydantic<3.0.0,>=2.7.4 in /usr/local/lib/python3.11/dist-packages (from langchain) (2.11.3)\n",
            "Requirement already satisfied: SQLAlchemy<3,>=1.4 in /usr/local/lib/python3.11/dist-packages (from langchain) (2.0.40)\n",
            "Requirement already satisfied: requests<3,>=2 in /usr/local/lib/python3.11/dist-packages (from langchain) (2.32.3)\n",
            "Requirement already satisfied: PyYAML>=5.3 in /usr/local/lib/python3.11/dist-packages (from langchain) (6.0.2)\n",
            "Requirement already satisfied: tenacity!=8.4.0,<10.0.0,>=8.1.0 in /usr/local/lib/python3.11/dist-packages (from langchain-core<1.0.0,>=0.3.55->langchain) (9.1.2)\n",
            "Requirement already satisfied: jsonpatch<2.0,>=1.33 in /usr/local/lib/python3.11/dist-packages (from langchain-core<1.0.0,>=0.3.55->langchain) (1.33)\n",
            "Requirement already satisfied: packaging<25,>=23.2 in /usr/local/lib/python3.11/dist-packages (from langchain-core<1.0.0,>=0.3.55->langchain) (24.2)\n",
            "Requirement already satisfied: typing-extensions>=4.7 in /usr/local/lib/python3.11/dist-packages (from langchain-core<1.0.0,>=0.3.55->langchain) (4.13.2)\n",
            "Requirement already satisfied: httpx<1,>=0.23.0 in /usr/local/lib/python3.11/dist-packages (from langsmith<0.4,>=0.1.17->langchain) (0.28.1)\n",
            "Requirement already satisfied: orjson<4.0.0,>=3.9.14 in /usr/local/lib/python3.11/dist-packages (from langsmith<0.4,>=0.1.17->langchain) (3.10.16)\n",
            "Requirement already satisfied: requests-toolbelt<2.0.0,>=1.0.0 in /usr/local/lib/python3.11/dist-packages (from langsmith<0.4,>=0.1.17->langchain) (1.0.0)\n",
            "Requirement already satisfied: zstandard<0.24.0,>=0.23.0 in /usr/local/lib/python3.11/dist-packages (from langsmith<0.4,>=0.1.17->langchain) (0.23.0)\n",
            "Requirement already satisfied: annotated-types>=0.6.0 in /usr/local/lib/python3.11/dist-packages (from pydantic<3.0.0,>=2.7.4->langchain) (0.7.0)\n",
            "Requirement already satisfied: pydantic-core==2.33.1 in /usr/local/lib/python3.11/dist-packages (from pydantic<3.0.0,>=2.7.4->langchain) (2.33.1)\n",
            "Requirement already satisfied: typing-inspection>=0.4.0 in /usr/local/lib/python3.11/dist-packages (from pydantic<3.0.0,>=2.7.4->langchain) (0.4.0)\n",
            "Requirement already satisfied: charset-normalizer<4,>=2 in /usr/local/lib/python3.11/dist-packages (from requests<3,>=2->langchain) (3.4.1)\n",
            "Requirement already satisfied: idna<4,>=2.5 in /usr/local/lib/python3.11/dist-packages (from requests<3,>=2->langchain) (3.10)\n",
            "Requirement already satisfied: urllib3<3,>=1.21.1 in /usr/local/lib/python3.11/dist-packages (from requests<3,>=2->langchain) (2.3.0)\n",
            "Requirement already satisfied: certifi>=2017.4.17 in /usr/local/lib/python3.11/dist-packages (from requests<3,>=2->langchain) (2025.1.31)\n",
            "Requirement already satisfied: greenlet>=1 in /usr/local/lib/python3.11/dist-packages (from SQLAlchemy<3,>=1.4->langchain) (3.2.1)\n",
            "Requirement already satisfied: anyio in /usr/local/lib/python3.11/dist-packages (from httpx<1,>=0.23.0->langsmith<0.4,>=0.1.17->langchain) (4.9.0)\n",
            "Requirement already satisfied: httpcore==1.* in /usr/local/lib/python3.11/dist-packages (from httpx<1,>=0.23.0->langsmith<0.4,>=0.1.17->langchain) (1.0.8)\n",
            "Requirement already satisfied: h11<0.15,>=0.13 in /usr/local/lib/python3.11/dist-packages (from httpcore==1.*->httpx<1,>=0.23.0->langsmith<0.4,>=0.1.17->langchain) (0.14.0)\n",
            "Requirement already satisfied: jsonpointer>=1.9 in /usr/local/lib/python3.11/dist-packages (from jsonpatch<2.0,>=1.33->langchain-core<1.0.0,>=0.3.55->langchain) (3.0.0)\n",
            "Requirement already satisfied: sniffio>=1.1 in /usr/local/lib/python3.11/dist-packages (from anyio->httpx<1,>=0.23.0->langsmith<0.4,>=0.1.17->langchain) (1.3.1)\n"
          ]
        }
      ]
    },
    {
      "cell_type": "code",
      "source": [
        "!pip install langchain langchain_community\n"
      ],
      "metadata": {
        "colab": {
          "base_uri": "https://localhost:8080/"
        },
        "id": "EyahVEXyFAAv",
        "outputId": "fffa729d-1a84-4c8b-f432-9e16aa466846"
      },
      "execution_count": 29,
      "outputs": [
        {
          "output_type": "stream",
          "name": "stdout",
          "text": [
            "Requirement already satisfied: langchain in /usr/local/lib/python3.11/dist-packages (0.3.24)\n",
            "Requirement already satisfied: langchain_community in /usr/local/lib/python3.11/dist-packages (0.3.22)\n",
            "Requirement already satisfied: langchain-core<1.0.0,>=0.3.55 in /usr/local/lib/python3.11/dist-packages (from langchain) (0.3.55)\n",
            "Requirement already satisfied: langchain-text-splitters<1.0.0,>=0.3.8 in /usr/local/lib/python3.11/dist-packages (from langchain) (0.3.8)\n",
            "Requirement already satisfied: langsmith<0.4,>=0.1.17 in /usr/local/lib/python3.11/dist-packages (from langchain) (0.3.33)\n",
            "Requirement already satisfied: pydantic<3.0.0,>=2.7.4 in /usr/local/lib/python3.11/dist-packages (from langchain) (2.11.3)\n",
            "Requirement already satisfied: SQLAlchemy<3,>=1.4 in /usr/local/lib/python3.11/dist-packages (from langchain) (2.0.40)\n",
            "Requirement already satisfied: requests<3,>=2 in /usr/local/lib/python3.11/dist-packages (from langchain) (2.32.3)\n",
            "Requirement already satisfied: PyYAML>=5.3 in /usr/local/lib/python3.11/dist-packages (from langchain) (6.0.2)\n",
            "Requirement already satisfied: aiohttp<4.0.0,>=3.8.3 in /usr/local/lib/python3.11/dist-packages (from langchain_community) (3.11.15)\n",
            "Requirement already satisfied: tenacity!=8.4.0,<10,>=8.1.0 in /usr/local/lib/python3.11/dist-packages (from langchain_community) (9.1.2)\n",
            "Requirement already satisfied: dataclasses-json<0.7,>=0.5.7 in /usr/local/lib/python3.11/dist-packages (from langchain_community) (0.6.7)\n",
            "Requirement already satisfied: pydantic-settings<3.0.0,>=2.4.0 in /usr/local/lib/python3.11/dist-packages (from langchain_community) (2.9.1)\n",
            "Requirement already satisfied: httpx-sse<1.0.0,>=0.4.0 in /usr/local/lib/python3.11/dist-packages (from langchain_community) (0.4.0)\n",
            "Requirement already satisfied: numpy>=1.26.2 in /usr/local/lib/python3.11/dist-packages (from langchain_community) (2.0.2)\n",
            "Requirement already satisfied: aiohappyeyeballs>=2.3.0 in /usr/local/lib/python3.11/dist-packages (from aiohttp<4.0.0,>=3.8.3->langchain_community) (2.6.1)\n",
            "Requirement already satisfied: aiosignal>=1.1.2 in /usr/local/lib/python3.11/dist-packages (from aiohttp<4.0.0,>=3.8.3->langchain_community) (1.3.2)\n",
            "Requirement already satisfied: attrs>=17.3.0 in /usr/local/lib/python3.11/dist-packages (from aiohttp<4.0.0,>=3.8.3->langchain_community) (25.3.0)\n",
            "Requirement already satisfied: frozenlist>=1.1.1 in /usr/local/lib/python3.11/dist-packages (from aiohttp<4.0.0,>=3.8.3->langchain_community) (1.6.0)\n",
            "Requirement already satisfied: multidict<7.0,>=4.5 in /usr/local/lib/python3.11/dist-packages (from aiohttp<4.0.0,>=3.8.3->langchain_community) (6.4.3)\n",
            "Requirement already satisfied: propcache>=0.2.0 in /usr/local/lib/python3.11/dist-packages (from aiohttp<4.0.0,>=3.8.3->langchain_community) (0.3.1)\n",
            "Requirement already satisfied: yarl<2.0,>=1.17.0 in /usr/local/lib/python3.11/dist-packages (from aiohttp<4.0.0,>=3.8.3->langchain_community) (1.20.0)\n",
            "Requirement already satisfied: marshmallow<4.0.0,>=3.18.0 in /usr/local/lib/python3.11/dist-packages (from dataclasses-json<0.7,>=0.5.7->langchain_community) (3.26.1)\n",
            "Requirement already satisfied: typing-inspect<1,>=0.4.0 in /usr/local/lib/python3.11/dist-packages (from dataclasses-json<0.7,>=0.5.7->langchain_community) (0.9.0)\n",
            "Requirement already satisfied: jsonpatch<2.0,>=1.33 in /usr/local/lib/python3.11/dist-packages (from langchain-core<1.0.0,>=0.3.55->langchain) (1.33)\n",
            "Requirement already satisfied: packaging<25,>=23.2 in /usr/local/lib/python3.11/dist-packages (from langchain-core<1.0.0,>=0.3.55->langchain) (24.2)\n",
            "Requirement already satisfied: typing-extensions>=4.7 in /usr/local/lib/python3.11/dist-packages (from langchain-core<1.0.0,>=0.3.55->langchain) (4.13.2)\n",
            "Requirement already satisfied: httpx<1,>=0.23.0 in /usr/local/lib/python3.11/dist-packages (from langsmith<0.4,>=0.1.17->langchain) (0.28.1)\n",
            "Requirement already satisfied: orjson<4.0.0,>=3.9.14 in /usr/local/lib/python3.11/dist-packages (from langsmith<0.4,>=0.1.17->langchain) (3.10.16)\n",
            "Requirement already satisfied: requests-toolbelt<2.0.0,>=1.0.0 in /usr/local/lib/python3.11/dist-packages (from langsmith<0.4,>=0.1.17->langchain) (1.0.0)\n",
            "Requirement already satisfied: zstandard<0.24.0,>=0.23.0 in /usr/local/lib/python3.11/dist-packages (from langsmith<0.4,>=0.1.17->langchain) (0.23.0)\n",
            "Requirement already satisfied: annotated-types>=0.6.0 in /usr/local/lib/python3.11/dist-packages (from pydantic<3.0.0,>=2.7.4->langchain) (0.7.0)\n",
            "Requirement already satisfied: pydantic-core==2.33.1 in /usr/local/lib/python3.11/dist-packages (from pydantic<3.0.0,>=2.7.4->langchain) (2.33.1)\n",
            "Requirement already satisfied: typing-inspection>=0.4.0 in /usr/local/lib/python3.11/dist-packages (from pydantic<3.0.0,>=2.7.4->langchain) (0.4.0)\n",
            "Requirement already satisfied: python-dotenv>=0.21.0 in /usr/local/lib/python3.11/dist-packages (from pydantic-settings<3.0.0,>=2.4.0->langchain_community) (1.1.0)\n",
            "Requirement already satisfied: charset-normalizer<4,>=2 in /usr/local/lib/python3.11/dist-packages (from requests<3,>=2->langchain) (3.4.1)\n",
            "Requirement already satisfied: idna<4,>=2.5 in /usr/local/lib/python3.11/dist-packages (from requests<3,>=2->langchain) (3.10)\n",
            "Requirement already satisfied: urllib3<3,>=1.21.1 in /usr/local/lib/python3.11/dist-packages (from requests<3,>=2->langchain) (2.3.0)\n",
            "Requirement already satisfied: certifi>=2017.4.17 in /usr/local/lib/python3.11/dist-packages (from requests<3,>=2->langchain) (2025.1.31)\n",
            "Requirement already satisfied: greenlet>=1 in /usr/local/lib/python3.11/dist-packages (from SQLAlchemy<3,>=1.4->langchain) (3.2.1)\n",
            "Requirement already satisfied: anyio in /usr/local/lib/python3.11/dist-packages (from httpx<1,>=0.23.0->langsmith<0.4,>=0.1.17->langchain) (4.9.0)\n",
            "Requirement already satisfied: httpcore==1.* in /usr/local/lib/python3.11/dist-packages (from httpx<1,>=0.23.0->langsmith<0.4,>=0.1.17->langchain) (1.0.8)\n",
            "Requirement already satisfied: h11<0.15,>=0.13 in /usr/local/lib/python3.11/dist-packages (from httpcore==1.*->httpx<1,>=0.23.0->langsmith<0.4,>=0.1.17->langchain) (0.14.0)\n",
            "Requirement already satisfied: jsonpointer>=1.9 in /usr/local/lib/python3.11/dist-packages (from jsonpatch<2.0,>=1.33->langchain-core<1.0.0,>=0.3.55->langchain) (3.0.0)\n",
            "Requirement already satisfied: mypy-extensions>=0.3.0 in /usr/local/lib/python3.11/dist-packages (from typing-inspect<1,>=0.4.0->dataclasses-json<0.7,>=0.5.7->langchain_community) (1.1.0)\n",
            "Requirement already satisfied: sniffio>=1.1 in /usr/local/lib/python3.11/dist-packages (from anyio->httpx<1,>=0.23.0->langsmith<0.4,>=0.1.17->langchain) (1.3.1)\n"
          ]
        }
      ]
    },
    {
      "cell_type": "code",
      "source": [
        "!!pip install langchain-groq\n"
      ],
      "metadata": {
        "colab": {
          "base_uri": "https://localhost:8080/"
        },
        "id": "YzizU0maGcuV",
        "outputId": "52032321-60ba-4939-981d-b117d45e487f"
      },
      "execution_count": 30,
      "outputs": [
        {
          "output_type": "execute_result",
          "data": {
            "text/plain": [
              "['Requirement already satisfied: langchain-groq in /usr/local/lib/python3.11/dist-packages (0.3.2)',\n",
              " 'Requirement already satisfied: langchain-core<1.0.0,>=0.3.49 in /usr/local/lib/python3.11/dist-packages (from langchain-groq) (0.3.55)',\n",
              " 'Requirement already satisfied: groq<1,>=0.4.1 in /usr/local/lib/python3.11/dist-packages (from langchain-groq) (0.23.1)',\n",
              " 'Requirement already satisfied: anyio<5,>=3.5.0 in /usr/local/lib/python3.11/dist-packages (from groq<1,>=0.4.1->langchain-groq) (4.9.0)',\n",
              " 'Requirement already satisfied: distro<2,>=1.7.0 in /usr/local/lib/python3.11/dist-packages (from groq<1,>=0.4.1->langchain-groq) (1.9.0)',\n",
              " 'Requirement already satisfied: httpx<1,>=0.23.0 in /usr/local/lib/python3.11/dist-packages (from groq<1,>=0.4.1->langchain-groq) (0.28.1)',\n",
              " 'Requirement already satisfied: pydantic<3,>=1.9.0 in /usr/local/lib/python3.11/dist-packages (from groq<1,>=0.4.1->langchain-groq) (2.11.3)',\n",
              " 'Requirement already satisfied: sniffio in /usr/local/lib/python3.11/dist-packages (from groq<1,>=0.4.1->langchain-groq) (1.3.1)',\n",
              " 'Requirement already satisfied: typing-extensions<5,>=4.10 in /usr/local/lib/python3.11/dist-packages (from groq<1,>=0.4.1->langchain-groq) (4.13.2)',\n",
              " 'Requirement already satisfied: langsmith<0.4,>=0.1.125 in /usr/local/lib/python3.11/dist-packages (from langchain-core<1.0.0,>=0.3.49->langchain-groq) (0.3.33)',\n",
              " 'Requirement already satisfied: tenacity!=8.4.0,<10.0.0,>=8.1.0 in /usr/local/lib/python3.11/dist-packages (from langchain-core<1.0.0,>=0.3.49->langchain-groq) (9.1.2)',\n",
              " 'Requirement already satisfied: jsonpatch<2.0,>=1.33 in /usr/local/lib/python3.11/dist-packages (from langchain-core<1.0.0,>=0.3.49->langchain-groq) (1.33)',\n",
              " 'Requirement already satisfied: PyYAML>=5.3 in /usr/local/lib/python3.11/dist-packages (from langchain-core<1.0.0,>=0.3.49->langchain-groq) (6.0.2)',\n",
              " 'Requirement already satisfied: packaging<25,>=23.2 in /usr/local/lib/python3.11/dist-packages (from langchain-core<1.0.0,>=0.3.49->langchain-groq) (24.2)',\n",
              " 'Requirement already satisfied: idna>=2.8 in /usr/local/lib/python3.11/dist-packages (from anyio<5,>=3.5.0->groq<1,>=0.4.1->langchain-groq) (3.10)',\n",
              " 'Requirement already satisfied: certifi in /usr/local/lib/python3.11/dist-packages (from httpx<1,>=0.23.0->groq<1,>=0.4.1->langchain-groq) (2025.1.31)',\n",
              " 'Requirement already satisfied: httpcore==1.* in /usr/local/lib/python3.11/dist-packages (from httpx<1,>=0.23.0->groq<1,>=0.4.1->langchain-groq) (1.0.8)',\n",
              " 'Requirement already satisfied: h11<0.15,>=0.13 in /usr/local/lib/python3.11/dist-packages (from httpcore==1.*->httpx<1,>=0.23.0->groq<1,>=0.4.1->langchain-groq) (0.14.0)',\n",
              " 'Requirement already satisfied: jsonpointer>=1.9 in /usr/local/lib/python3.11/dist-packages (from jsonpatch<2.0,>=1.33->langchain-core<1.0.0,>=0.3.49->langchain-groq) (3.0.0)',\n",
              " 'Requirement already satisfied: orjson<4.0.0,>=3.9.14 in /usr/local/lib/python3.11/dist-packages (from langsmith<0.4,>=0.1.125->langchain-core<1.0.0,>=0.3.49->langchain-groq) (3.10.16)',\n",
              " 'Requirement already satisfied: requests<3,>=2 in /usr/local/lib/python3.11/dist-packages (from langsmith<0.4,>=0.1.125->langchain-core<1.0.0,>=0.3.49->langchain-groq) (2.32.3)',\n",
              " 'Requirement already satisfied: requests-toolbelt<2.0.0,>=1.0.0 in /usr/local/lib/python3.11/dist-packages (from langsmith<0.4,>=0.1.125->langchain-core<1.0.0,>=0.3.49->langchain-groq) (1.0.0)',\n",
              " 'Requirement already satisfied: zstandard<0.24.0,>=0.23.0 in /usr/local/lib/python3.11/dist-packages (from langsmith<0.4,>=0.1.125->langchain-core<1.0.0,>=0.3.49->langchain-groq) (0.23.0)',\n",
              " 'Requirement already satisfied: annotated-types>=0.6.0 in /usr/local/lib/python3.11/dist-packages (from pydantic<3,>=1.9.0->groq<1,>=0.4.1->langchain-groq) (0.7.0)',\n",
              " 'Requirement already satisfied: pydantic-core==2.33.1 in /usr/local/lib/python3.11/dist-packages (from pydantic<3,>=1.9.0->groq<1,>=0.4.1->langchain-groq) (2.33.1)',\n",
              " 'Requirement already satisfied: typing-inspection>=0.4.0 in /usr/local/lib/python3.11/dist-packages (from pydantic<3,>=1.9.0->groq<1,>=0.4.1->langchain-groq) (0.4.0)',\n",
              " 'Requirement already satisfied: charset-normalizer<4,>=2 in /usr/local/lib/python3.11/dist-packages (from requests<3,>=2->langsmith<0.4,>=0.1.125->langchain-core<1.0.0,>=0.3.49->langchain-groq) (3.4.1)',\n",
              " 'Requirement already satisfied: urllib3<3,>=1.21.1 in /usr/local/lib/python3.11/dist-packages (from requests<3,>=2->langsmith<0.4,>=0.1.125->langchain-core<1.0.0,>=0.3.49->langchain-groq) (2.3.0)']"
            ]
          },
          "metadata": {},
          "execution_count": 30
        }
      ]
    },
    {
      "cell_type": "code",
      "source": [
        "# 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\n",
        "\n",
        "import os\n",
        "\n",
        "os.environ[\"GROQ_API_KEY\"] = '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'\n"
      ],
      "metadata": {
        "id": "GK_BkfvKHXhI"
      },
      "execution_count": 31,
      "outputs": []
    },
    {
      "cell_type": "code",
      "source": [
        "from langchain_core.prompts import PromptTemplate\n",
        "from langchain_core.output_parsers import StrOutputParser\n",
        "\n",
        "intent_prompt = PromptTemplate.from_template(\n",
        "    \"Is the following query medically related? Reply with yes or no only:\\n\\n{query}\"\n",
        ")\n",
        "chain = intent_prompt | llm | StrOutputParser()\n",
        "\n",
        "def is_medical_query(query: str) -> bool:\n",
        "    result = chain.invoke({\"query\": query})\n",
        "    return result.strip().lower() == \"yes\"\n"
      ],
      "metadata": {
        "id": "UqMhJbRlj3lC"
      },
      "execution_count": 32,
      "outputs": []
    },
    {
      "cell_type": "code",
      "execution_count": 33,
      "metadata": {
        "id": "-sV_h7kkEFUn"
      },
      "outputs": [],
      "source": [
        "from langchain.agents import initialize_agent, Tool\n",
        "from langchain.agents.agent_types import AgentType\n",
        "from langchain.tools import WikipediaQueryRun\n",
        "from langchain.utilities import WikipediaAPIWrapper\n",
        "from langchain_groq import ChatGroq\n",
        "\n",
        "llm = ChatGroq(\n",
        "    temperature=0,\n",
        "    model_name=\"llama3-70b-8192\"\n",
        ")\n",
        "\n",
        "from langchain_community.agent_toolkits.sql.base import SQLDatabaseToolkit\n",
        "import asyncio\n",
        "from langchain.sql_database import SQLDatabase\n",
        "from langchain.tools.wolfram_alpha import WolframAlphaQueryRun\n",
        "from langchain.utilities.wolfram_alpha import WolframAlphaAPIWrapper\n",
        "from langchain.tools import BaseTool\n",
        "from typing import Optional\n",
        "import os\n",
        "import nest_asyncio"
      ]
    },
    {
      "cell_type": "code",
      "source": [
        "from langchain_core.prompts import PromptTemplate\n",
        "from langchain_core.output_parsers import StrOutputParser\n",
        "\n",
        "intent_prompt = PromptTemplate.from_template(\n",
        "    \"Is the following query medically related? Reply with yes or no only:\\n\\n{query}\"\n",
        ")\n",
        "chain = intent_prompt | llm | StrOutputParser()\n",
        "\n",
        "def is_medical_query(query: str) -> bool:\n",
        "    result = chain.invoke({\"query\": query})\n",
        "    return result.strip().lower() == \"yes\""
      ],
      "metadata": {
        "id": "DEksTglEkLrr"
      },
      "execution_count": 34,
      "outputs": []
    },
    {
      "cell_type": "code",
      "source": [
        "nest_asyncio.apply()"
      ],
      "metadata": {
        "id": "qhlMT6U0EeSH"
      },
      "execution_count": 35,
      "outputs": []
    },
    {
      "cell_type": "code",
      "source": [
        "from langchain.agents import initialize_agent, Tool\n",
        "from langchain.agents.agent_types import AgentType\n",
        "from langchain.tools import WikipediaQueryRun\n",
        "from langchain.utilities import WikipediaAPIWrapper\n",
        "from langchain_community.agent_toolkits.sql.base import SQLDatabaseToolkit\n",
        "from langchain.sql_database import SQLDatabase\n",
        "from langchain.tools.wolfram_alpha import WolframAlphaQueryRun\n",
        "from langchain.utilities.wolfram_alpha import WolframAlphaAPIWrapper\n",
        "from langchain.tools import BaseTool\n",
        "from langchain_groq import ChatGroq\n",
        "\n",
        "from typing import Optional\n",
        "import asyncio\n",
        "import os\n",
        "import nest_asyncio\n",
        "\n",
        "nest_asyncio.apply()\n"
      ],
      "metadata": {
        "id": "giC4n_yBFKGZ"
      },
      "execution_count": 36,
      "outputs": []
    },
    {
      "cell_type": "code",
      "source": [
        "# SET YOUR API KEYS\n",
        "os.environ[\"GROQ_API_KEY\"] = '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'\n",
        "os.environ[\"WOLFRAM_ALPHA_APPID\"] = \"HGY66R-VYLKYYVH5R\"       #GY66R-VYLKYYVH5R\n",
        "os.environ[\"SERPER_API_KEY\"] = \"0462b1d01faf3b41941417c9e3169d98a52456b4\"     #0462b1d01faf3b41941417c9e3169d98a52456b4"
      ],
      "metadata": {
        "id": "CZB2n3rZJV7W"
      },
      "execution_count": 37,
      "outputs": []
    },
    {
      "cell_type": "code",
      "source": [
        "# 🧠 Groq LLM using LLaMA 3\n",
        "llm = ChatGroq(\n",
        "    temperature=0,\n",
        "    model_name=\"llama3-70b-8192\"\n",
        ")\n"
      ],
      "metadata": {
        "id": "tyoXcswyMYFC"
      },
      "execution_count": 38,
      "outputs": []
    },
    {
      "cell_type": "code",
      "source": [
        "# 1. Google Serper Tool (custom wrapper)\n",
        "class GoogleSerperTool(BaseTool):\n",
        "    name: str = \"Google Serper\"\n",
        "    description: str = \"Use this to search for clinical studies and news using Serper\"\n",
        "\n",
        "    def _run(self, query: str) -> str:\n",
        "        import requests\n",
        "        headers = {\n",
        "            \"X-API-KEY\": os.getenv(\"SERPER_API_KEY\"),\n",
        "            \"Content-Type\": \"application/json\",\n",
        "        }\n",
        "        data = {\"q\": query}\n",
        "        response = requests.post(\n",
        "            \"https://google.serper.dev/search\", headers=headers, json=data\n",
        "        )\n",
        "        return response.json().get(\"organic\", [])[0].get(\"snippet\", \"No result\")\n",
        "\n",
        "    def _arun(self, query: str) -> str:\n",
        "        raise NotImplementedError(\"Async not supported\")"
      ],
      "metadata": {
        "id": "du2_9EV_MdAt"
      },
      "execution_count": 39,
      "outputs": []
    },
    {
      "cell_type": "code",
      "source": [
        "!pip install wikipedia"
      ],
      "metadata": {
        "colab": {
          "base_uri": "https://localhost:8080/"
        },
        "id": "gVgNYUdwMySO",
        "outputId": "f1a1792e-28ad-40a0-ff50-eead932f260a"
      },
      "execution_count": 40,
      "outputs": [
        {
          "output_type": "stream",
          "name": "stdout",
          "text": [
            "Requirement already satisfied: wikipedia in /usr/local/lib/python3.11/dist-packages (1.4.0)\n",
            "Requirement already satisfied: beautifulsoup4 in /usr/local/lib/python3.11/dist-packages (from wikipedia) (4.13.4)\n",
            "Requirement already satisfied: requests<3.0.0,>=2.0.0 in /usr/local/lib/python3.11/dist-packages (from wikipedia) (2.32.3)\n",
            "Requirement already satisfied: charset-normalizer<4,>=2 in /usr/local/lib/python3.11/dist-packages (from requests<3.0.0,>=2.0.0->wikipedia) (3.4.1)\n",
            "Requirement already satisfied: idna<4,>=2.5 in /usr/local/lib/python3.11/dist-packages (from requests<3.0.0,>=2.0.0->wikipedia) (3.10)\n",
            "Requirement already satisfied: urllib3<3,>=1.21.1 in /usr/local/lib/python3.11/dist-packages (from requests<3.0.0,>=2.0.0->wikipedia) (2.3.0)\n",
            "Requirement already satisfied: certifi>=2017.4.17 in /usr/local/lib/python3.11/dist-packages (from requests<3.0.0,>=2.0.0->wikipedia) (2025.1.31)\n",
            "Requirement already satisfied: soupsieve>1.2 in /usr/local/lib/python3.11/dist-packages (from beautifulsoup4->wikipedia) (2.7)\n",
            "Requirement already satisfied: typing-extensions>=4.0.0 in /usr/local/lib/python3.11/dist-packages (from beautifulsoup4->wikipedia) (4.13.2)\n"
          ]
        }
      ]
    },
    {
      "cell_type": "code",
      "source": [
        "# 2. Wikipedia Tool\n",
        "wikipedia_tool = WikipediaQueryRun(api_wrapper=WikipediaAPIWrapper())\n",
        "\n"
      ],
      "metadata": {
        "id": "JnT9XDvqMie2"
      },
      "execution_count": 41,
      "outputs": []
    },
    {
      "cell_type": "code",
      "source": [
        "# 3. SQL Database Tool\n",
        "db = SQLDatabase.from_uri(\"sqlite:///hospital_rules.db\")\n",
        "sql_toolkit = SQLDatabaseToolkit(db=db, llm=llm)\n",
        "sql_tool = sql_toolkit.get_tools()[0]  # usually the query tool"
      ],
      "metadata": {
        "id": "IAaQWATPMld-"
      },
      "execution_count": 42,
      "outputs": []
    },
    {
      "cell_type": "code",
      "source": [
        "# 4. Jina Search (placeholder)\n",
        "class JinaSearchTool(BaseTool):\n",
        "    name: str = \"Jina Search\"\n",
        "    description: str = \"Looks for recent FDA warnings via semantic search\"\n",
        "\n",
        "    def _run(self, query: str) -> str:\n",
        "        return \"Recent FDA warning found regarding ibuprofen interaction with ACE inhibitors.\"\n",
        "\n",
        "    def _arun(self, query: str) -> str:\n",
        "        raise NotImplementedError(\"Async not supported\")"
      ],
      "metadata": {
        "id": "iecM6-ckNBkV"
      },
      "execution_count": 43,
      "outputs": []
    },
    {
      "cell_type": "code",
      "source": [
        "!pip install wolframalpha\n"
      ],
      "metadata": {
        "colab": {
          "base_uri": "https://localhost:8080/"
        },
        "id": "SoglyAyGNQ6e",
        "outputId": "da3ea9b3-2061-4bb3-87ce-a79461efe22c"
      },
      "execution_count": 44,
      "outputs": [
        {
          "output_type": "stream",
          "name": "stdout",
          "text": [
            "Requirement already satisfied: wolframalpha in /usr/local/lib/python3.11/dist-packages (5.1.3)\n",
            "Requirement already satisfied: xmltodict in /usr/local/lib/python3.11/dist-packages (from wolframalpha) (0.14.2)\n",
            "Requirement already satisfied: more-itertools in /usr/local/lib/python3.11/dist-packages (from wolframalpha) (10.6.0)\n",
            "Requirement already satisfied: jaraco.context in /usr/local/lib/python3.11/dist-packages (from wolframalpha) (6.0.1)\n",
            "Requirement already satisfied: httpx in /usr/local/lib/python3.11/dist-packages (from wolframalpha) (0.28.1)\n",
            "Requirement already satisfied: multidict in /usr/local/lib/python3.11/dist-packages (from wolframalpha) (6.4.3)\n",
            "Requirement already satisfied: anyio in /usr/local/lib/python3.11/dist-packages (from httpx->wolframalpha) (4.9.0)\n",
            "Requirement already satisfied: certifi in /usr/local/lib/python3.11/dist-packages (from httpx->wolframalpha) (2025.1.31)\n",
            "Requirement already satisfied: httpcore==1.* in /usr/local/lib/python3.11/dist-packages (from httpx->wolframalpha) (1.0.8)\n",
            "Requirement already satisfied: idna in /usr/local/lib/python3.11/dist-packages (from httpx->wolframalpha) (3.10)\n",
            "Requirement already satisfied: h11<0.15,>=0.13 in /usr/local/lib/python3.11/dist-packages (from httpcore==1.*->httpx->wolframalpha) (0.14.0)\n",
            "Requirement already satisfied: backports.tarfile in /usr/local/lib/python3.11/dist-packages (from jaraco.context->wolframalpha) (1.2.0)\n",
            "Requirement already satisfied: sniffio>=1.1 in /usr/local/lib/python3.11/dist-packages (from anyio->httpx->wolframalpha) (1.3.1)\n",
            "Requirement already satisfied: typing_extensions>=4.5 in /usr/local/lib/python3.11/dist-packages (from anyio->httpx->wolframalpha) (4.13.2)\n"
          ]
        }
      ]
    },
    {
      "cell_type": "code",
      "source": [
        "# 5. Wolfram Alpha Tool\n",
        "wolfram_tool = WolframAlphaQueryRun(api_wrapper=WolframAlphaAPIWrapper())"
      ],
      "metadata": {
        "id": "bxtgGPERNHiM"
      },
      "execution_count": 45,
      "outputs": []
    },
    {
      "cell_type": "code",
      "source": [
        "# Combine tools\n",
        "tools = [\n",
        "    Tool.from_function(\n",
        "        func=GoogleSerperTool()._run,\n",
        "        name=\"Google Serper\",\n",
        "        description=\"Check for clinical studies on kidney risks\",\n",
        "    ),\n",
        "    Tool.from_function(\n",
        "        func=wikipedia_tool.run,\n",
        "        name=\"Wikipedia\",\n",
        "        description=\"Look up drug mechanisms\",\n",
        "    ),\n",
        "    Tool.from_function(\n",
        "        func=sql_tool.run,\n",
        "        name=\"SQLDatabase\",\n",
        "        description=\"Check hospital prescribing rules\",\n",
        "    ),\n",
        "    Tool.from_function(\n",
        "        func=JinaSearchTool()._run,\n",
        "        name=\"Jina Search\",\n",
        "        description=\"Look for recent FDA warnings\",\n",
        "    ),\n",
        "    Tool.from_function(\n",
        "        func=wolfram_tool.run,\n",
        "        name=\"Wolfram Alpha\",\n",
        "        description=\"Calculate kidney function risk score\",\n",
        "    ),\n",
        "]"
      ],
      "metadata": {
        "id": "NyR8nv3PNKFq"
      },
      "execution_count": 46,
      "outputs": []
    },
    {
      "cell_type": "code",
      "source": [
        "# Initialize Agent\n",
        "agent_executor = initialize_agent(\n",
        "    tools,\n",
        "    llm,\n",
        "    agent=AgentType.ZERO_SHOT_REACT_DESCRIPTION,\n",
        "    verbose=True,\n",
        ")"
      ],
      "metadata": {
        "id": "5mewcJ_fNb-J"
      },
      "execution_count": 47,
      "outputs": []
    },
    {
      "cell_type": "code",
      "source": [
        "# Async query runner\n",
        "async def main():\n",
        "    query = \"I have pain in my stomach. what to do. what medicine should i take ?\"\n",
        "    response = await agent_executor.ainvoke(query)\n",
        "    print(\"\\n🧠 ChatBot Response:\\n\", response)"
      ],
      "metadata": {
        "id": "HkNcwH8Uk2oN"
      },
      "execution_count": 48,
      "outputs": []
    },
    {
      "cell_type": "code",
      "source": [
        "user_input = input(\"User: \")\n",
        "\n",
        "if not is_medical_query(user_input):\n",
        "    print(\"Invalid query: This chatbot only handles medical questions.\")\n",
        "else:\n",
        "    response = agent_executor.invoke({\"input\": user_input})\n",
        "    print(\"Bot:\", response)\n"
      ],
      "metadata": {
        "colab": {
          "base_uri": "https://localhost:8080/"
        },
        "id": "Gmc0I2EUkjBR",
        "outputId": "a8275191-e2c5-44be-91e6-a713db54fdb8"
      },
      "execution_count": 50,
      "outputs": [
        {
          "output_type": "stream",
          "name": "stdout",
          "text": [
            "User: Can I eat spicy food when i have sores in somach\n",
            "\n",
            "\n",
            "\u001b[1m> Entering new AgentExecutor chain...\u001b[0m\n",
            "\u001b[32;1m\u001b[1;3mThought: This question seems to be related to stomach health and food choices. I need to determine if spicy food is safe to consume when having stomach sores.\n",
            "\n",
            "Action: Google Serper\n",
            "Action Input: \"stomach sores and spicy food\"\u001b[0m\n",
            "Observation: \u001b[36;1m\u001b[1;3mFor decades, spicy foods were blamed for painful stomach ulcers. People doubled over in pain were advised to cut back on fiery foods.\u001b[0m\n",
            "Thought:\u001b[32;1m\u001b[1;3mThought: The observation suggests that spicy food was previously thought to exacerbate stomach ulcers, but I need to know if this is still the case and if it applies to stomach sores in general.\n",
            "\n",
            "Action: Wikipedia\n",
            "Action Input: \"stomach sores\"\u001b[0m\n",
            "Observation: \u001b[33;1m\u001b[1;3mPage: Abdominal pain\n",
            "Summary: Abdominal pain, also known as a stomach ache, is a symptom associated with both non-serious and serious medical issues. Since the abdomen contains most of the body's vital organs, it can be an indicator of a wide variety of diseases. Given that, approaching the examination of a person and planning of a differential diagnosis is extremely important.\n",
            "\n",
            "Common causes of pain in the abdomen include gastroenteritis and irritable bowel syndrome. About 15% of people have a more serious underlying condition such as appendicitis, leaking or ruptured abdominal aortic aneurysm, diverticulitis, or ectopic pregnancy. In a third of cases, the exact cause is unclear.\n",
            "\n",
            "Page: Habronema muscae\n",
            "Summary: Habronema muscae is an internal stomach parasite that is most commonly found in horses. It is the most common cause of cutaneous ulcerative granulomas in the horse. It is in genus Habronema.\n",
            "\n",
            "Page: Sore throat\n",
            "Summary: Sore throat, also known as throat pain, is pain or irritation of the throat. The majority of sore throats are caused by a virus, for which antibiotics are not helpful. \n",
            "For sore throat caused by bacteria (GAS), treatment with antibiotics may help the person get better faster, reduce the risk that the bacterial infection spreads, prevent retropharyngeal abscesses and quinsy, and reduce the risk of other complications such as rheumatic fever and rheumatic heart disease. In most developed countries, post-streptococcal diseases have become far less common. For this reason, awareness and public health initiatives to promote minimizing the use of antibiotics for viral infections have become the focus.\n",
            "Approximately 35% of childhood sore throats and 5–25% of cases in adults are caused by a bacterial infection from group A streptococcus. Sore throats that are \"non-group A streptococcus\" are assumed to be caused by a viral infection. Sore throat is a common reason for people to visit their primary care doctors and the top reason for antibiotic prescriptions by primary care practitioners such as family doctors. In the United States, about 1% of all visits to the hospital emergency department, physician office and medical clinics, and outpatient clinics are for sore throat (over 7 million visits for adults and 7 million visits for children per year).\n",
            "\n",
            "\u001b[0m\n",
            "Thought:\u001b[32;1m\u001b[1;3mThought: The observation from Wikipedia provides information on stomach sores, but it seems to be more focused on abdominal pain and other related conditions. I didn't find a direct connection between stomach sores and spicy food. However, I can infer that spicy food might exacerbate abdominal pain or discomfort, which could be related to stomach sores.\n",
            "\n",
            "Action: SQLDatabase\n",
            "Action Input: \"hospital guidelines for stomach sores and diet\"\u001b[0m\n",
            "Observation: \u001b[38;5;200m\u001b[1;3mError: (sqlite3.OperationalError) near \"hospital\": syntax error\n",
            "[SQL: hospital guidelines for stomach sores and diet]\n",
            "(Background on this error at: https://sqlalche.me/e/20/e3q8)\u001b[0m\n",
            "Thought:\u001b[32;1m\u001b[1;3mIt seems like the SQLDatabase action didn't work as expected. Let's try to rephrase the input to get a better result.\n",
            "\n",
            "Action: SQLDatabase\n",
            "Action Input: \"SELECT guidelines FROM hospital_dietary_restrictions WHERE condition='stomach sores'\"\u001b[0m\n",
            "Observation: \u001b[38;5;200m\u001b[1;3mError: (sqlite3.OperationalError) no such table: hospital_dietary_restrictions\n",
            "[SQL: SELECT guidelines FROM hospital_dietary_restrictions WHERE condition='stomach sores']\n",
            "(Background on this error at: https://sqlalche.me/e/20/e3q8)\u001b[0m\n",
            "Thought:\u001b[32;1m\u001b[1;3mIt seems like the SQLDatabase action didn't work as expected again. Let's try to use a different approach.\n",
            "\n",
            "Action: Jina Search\n",
            "Action Input: \"FDA warnings on stomach sores and spicy food\"\u001b[0m\n",
            "Observation: \u001b[36;1m\u001b[1;3mRecent FDA warning found regarding ibuprofen interaction with ACE inhibitors.\u001b[0m\n",
            "Thought:\u001b[32;1m\u001b[1;3mThought: The observation from Jina Search doesn't seem to be directly related to stomach sores and spicy food. Let's try to use a different approach.\n",
            "\n",
            "Action: Wolfram Alpha\n",
            "Action Input: \"stomach sores and spicy food risk assessment\"\u001b[0m\n",
            "Observation: \u001b[33;1m\u001b[1;3mWolfram Alpha wasn't able to answer it\u001b[0m\n",
            "Thought:\u001b[32;1m\u001b[1;3mThought: It seems like I haven't found a direct answer to the question yet. I need to think about the observations I've gathered so far and make an educated conclusion.\n",
            "\n",
            "Action: Google Serper\n",
            "Action Input: \"stomach sores and diet recommendations\"\u001b[0m\n",
            "Observation: \u001b[36;1m\u001b[1;3mWhat foods are good for stomach ulcers? · blueberries · cherries · bell peppers · leafy greens · miso · olive oil · decaffeinated green tea · licorice ...\u001b[0m\n",
            "Thought:\u001b[32;1m\u001b[1;3mThought: I now know the final answer\n",
            "\n",
            "Final Answer: While I couldn't find a direct answer to whether spicy food is safe to consume when having stomach sores, I can infer that it's likely not recommended. The observations suggest that spicy food was previously thought to exacerbate stomach ulcers, and it may exacerbate abdominal pain or discomfort, which could be related to stomach sores. Additionally, the diet recommendations for stomach ulcers suggest avoiding irritating foods and opting for gentle, easy-to-digest foods. Therefore, it's likely best to avoid spicy food when having stomach sores and instead opt for a gentle, bland diet.\u001b[0m\n",
            "\n",
            "\u001b[1m> Finished chain.\u001b[0m\n",
            "Bot: {'input': 'Can I eat spicy food when i have sores in somach', 'output': \"While I couldn't find a direct answer to whether spicy food is safe to consume when having stomach sores, I can infer that it's likely not recommended. The observations suggest that spicy food was previously thought to exacerbate stomach ulcers, and it may exacerbate abdominal pain or discomfort, which could be related to stomach sores. Additionally, the diet recommendations for stomach ulcers suggest avoiding irritating foods and opting for gentle, easy-to-digest foods. Therefore, it's likely best to avoid spicy food when having stomach sores and instead opt for a gentle, bland diet.\"}\n"
          ]
        }
      ]
    },
    {
      "cell_type": "code",
      "source": [
        "# Async query runner\n",
        "async def main():\n",
        "    query = \"I have pain in my stomach. what to do. what medicine should i take ?\"\n",
        "    response = await agent_executor.ainvoke(query)\n",
        "    print(\"\\n🧠 ChatBot Response:\\n\", response)"
      ],
      "metadata": {
        "id": "NR1SmnONNf9z"
      },
      "execution_count": null,
      "outputs": []
    },
    {
      "cell_type": "code",
      "source": [],
      "metadata": {
        "id": "m6b7sG5mNmC5"
      },
      "execution_count": null,
      "outputs": []
    }
  ]
}